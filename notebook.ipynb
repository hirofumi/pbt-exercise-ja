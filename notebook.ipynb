{
 "cells": [
  {
   "cell_type": "markdown",
   "id": "26604b1c-6f09-40b5-972c-aa35642fc6fb",
   "metadata": {},
   "source": [
    "# PBT練習帳"
   ]
  },
  {
   "cell_type": "markdown",
   "id": "4d67a8e3-382d-4d9e-8f9d-7bb518578739",
   "metadata": {
    "jp-MarkdownHeadingCollapsed": true
   },
   "source": [
    "## 事例ベーステスト vs プロパティベーステスト\n",
    "\n",
    "プロパティベーステストでは個別の入出力ではなく守られるべきルールを記述する。\n",
    "\n",
    "> 従来のテストの多くは事例ベースです。ここで言う事例とは、プログラムへの入力値と期待される出力値とを組にして並べたものです。プログラムが行うべき事柄について数行のコメントを書くこともあるかもしれませんが、それ以上のものではありません。優れたテストであるかどうかは、「プログラムにおいて取りうるすべての状態をあなたが用意した事例で試せるかどうか」で決まります。\n",
    ">\n",
    "> 対照的に、プロパティベーステストは手で事例を並べる作業とは無縁です。代わりに、ある種のメタテストを書くことになります。つまり、「どのような入力値を与えても常に同じであるような振る舞い」を記述するルールを見つけて、それを実行可能なコードとして書き表すのです。その実行可能なコードが**プロパティ**です。すると、特別なテストフレームワークがテストケースを生成し、それらをプロパティに対して実行して、あなたが想定したルールがプログラム内で守られているかを確認します。\n",
    ">\n",
    "> <cite>[実践プロパティベーステスト &mdash; PropErとErlang/Elixrではじめよう](https://www.lambdanote.com/collections/proper-erlang-elixir), pp.7-8</cite>\n",
    "\n",
    "- 事例ベーステスト\n",
    "  - $x_k$ と $y_k$ の組を挙げて $f(x_k) = y_k$ を示す\n",
    "  - $f(x_1) = y_1$\n",
    "  - $f(x_2) = y_2$\n",
    "  - $f(x_3) = y_3$\n",
    "  - ...\n",
    "- プロパティベーステスト\n",
    "  - $f(x)$ に関する性質 $\\mathrm{prop}(x)$ を定義して $\\forall x\\; \\mathrm{prop}(x)$ を示す\n",
    "  - $\\mathrm{prop}_{\\text{roundtrip}}(x) \\mathrel{\\overset{\\text{def}}{\\iff}} f^{-1}(f(x)) = x$\n",
    "    - $f = \\text{write}$, $f^{-1} = \\text{read}$\\\n",
    "      書いたものを読んだら元の値が得られる\n",
    "  - $\\mathrm{prop}_{\\text{idempotency}}(x) \\mathrel{\\overset{\\text{def}}{\\iff}} f(f(x)) = f(x)$\n",
    "    - $f = \\text{PUT}$\\\n",
    "      2回PUTしても結果は同じ\n",
    "  - $\\mathrm{prop}_{\\text{invariant}}(x) \\mathrel{\\overset{\\text{def}}{\\iff}} i(f(x)) = i(x)$\n",
    "    - $f = \\text{sort}$, $i = \\text{length}$\\\n",
    "      ソートしても長さは変わらない\n",
    "  - $\\mathrm{prop}_{\\text{oracle}}(x) \\mathrel{\\overset{\\text{def}}{\\iff}} f(x) = o(x)$\n",
    "    - $f = \\text{並列処理による実装}, o = \\text{シーケンシャルでナイーブな実装}$\\\n",
    "      並列処理による実装もナイーブな実装と同等の出力を得られる\n",
    "  - ..."
   ]
  },
  {
   "cell_type": "markdown",
   "id": "a34135f9-8128-4778-9fd9-0336e852ded7",
   "metadata": {},
   "source": [
    "## 準備\n",
    "\n",
    "[hypothesis](https://github.com/HypothesisWorks/hypothesis)を用いる。"
   ]
  },
  {
   "cell_type": "code",
   "execution_count": null,
   "id": "efedbae9-a75d-4bce-ac7e-addfe8853d64",
   "metadata": {
    "scrolled": true
   },
   "outputs": [],
   "source": [
    "%pip install hypothesis ipytest"
   ]
  },
  {
   "cell_type": "code",
   "execution_count": null,
   "id": "67db4484-7f9f-43ca-8670-fec2100d0cb3",
   "metadata": {},
   "outputs": [],
   "source": [
    "import ipytest\n",
    "import pytest\n",
    "\n",
    "ipytest.autoconfig()"
   ]
  },
  {
   "cell_type": "markdown",
   "id": "3c80102e-b57f-43f1-99e9-d8d39eca4f5c",
   "metadata": {},
   "source": [
    "## 「[プロパティベース・テストを習得する](https://blogs.oracle.com/otnjp/post/know-for-sure-with-property-based-testing-ja)」より\n",
    "\n",
    "[プロパティベース・テストを習得する](https://blogs.oracle.com/otnjp/post/know-for-sure-with-property-based-testing-ja)を参考に、下記の簡単なクラスについて事例ベーステストとプロパティベーステストを書いてみる。\n",
    "\n",
    "> 個々の測定値を受信（receive）し、それぞれの出現頻度を数えて集計するAggregatorクラスを扱っているとします。"
   ]
  },
  {
   "cell_type": "markdown",
   "id": "dccb8845-8f67-4987-a797-ed3070a15e88",
   "metadata": {},
   "source": [
    "### 実装"
   ]
  },
  {
   "cell_type": "code",
   "execution_count": null,
   "id": "6f9b135a-1910-420f-b90c-283783e37dda",
   "metadata": {
    "jupyter": {
     "source_hidden": true
    }
   },
   "outputs": [],
   "source": [
    "class Aggregator:\n",
    "    def __init__(self):\n",
    "        self.__tally = {}\n",
    "\n",
    "    def receive(self, value):\n",
    "        self.__tally.setdefault(value, 0)\n",
    "        self.__tally[value] += 1\n",
    "\n",
    "    def tally(self):\n",
    "        return self.__tally"
   ]
  },
  {
   "cell_type": "markdown",
   "id": "e3355be9-e0be-4810-ad1a-dfd9efdc99d8",
   "metadata": {},
   "source": [
    "### 事例ベーステスト"
   ]
  },
  {
   "cell_type": "code",
   "execution_count": null,
   "id": "67a139d5-0e4d-4417-a3a8-be3631988056",
   "metadata": {},
   "outputs": [],
   "source": [
    "%%ipytest\n",
    "\n",
    "def test_tally():\n",
    "    aggregator = Aggregator()\n",
    "    aggregator.receive(1)\n",
    "    aggregator.receive(2)\n",
    "    aggregator.receive(3)\n",
    "    aggregator.receive(2)\n",
    "    tally = aggregator.tally()\n",
    "    assert tally[1] == 1\n",
    "    assert tally[2] == 2\n",
    "    assert tally[3] == 1"
   ]
  },
  {
   "cell_type": "markdown",
   "id": "d172ff73-c1b0-4dbc-b1ce-e1db061b31d0",
   "metadata": {},
   "source": [
    "### プロパティベーステスト\n",
    "\n",
    "> Aggregatorのいくつかのプロパティを簡単な日本語で表現してみます。\n",
    "> \n",
    "> - すべての測定値は、集計（tally）にキーとして出現する\n",
    "> - 測定されなかった値は、集計に出現しない\n",
    "> - 集計に出現した回数の合計は、受信した測定値の数と等しくなる\n",
    "> - 測定の順序によって集計結果が変わることはない"
   ]
  },
  {
   "cell_type": "code",
   "execution_count": null,
   "id": "5c4d5b16-0442-4352-834a-d0fc9de6912c",
   "metadata": {},
   "outputs": [],
   "source": [
    "%%ipytest\n",
    "\n",
    "from hypothesis import given\n",
    "from hypothesis.strategies import integers, lists, permutations\n",
    "\n",
    "@given(lists(integers()))\n",
    "def test_all_measured_values_show_up_as_keys(measurements):\n",
    "    \"\"\"すべての測定値は、集計（tally）にキーとして出現する \n",
    "    \"\"\"\n",
    "    aggregator = Aggregator()\n",
    "    for m in measurements:\n",
    "        aggregator.receive(m)\n",
    "    tally = aggregator.tally()\n",
    "    assert set(measurements).issubset(tally.keys())\n",
    "\n",
    "@given(lists(integers()))\n",
    "def test_not_measured_values_do_not_show_up_as_keys(measurements):\n",
    "    \"\"\"測定されなかった値は、集計に出現しない \n",
    "       (対偶: 集計に出現した値は測定されている)\n",
    "    \"\"\"\n",
    "    aggregator = Aggregator()\n",
    "    for m in measurements:\n",
    "        aggregator.receive(m)\n",
    "    tally = aggregator.tally()\n",
    "    assert set(tally.keys()).issubset(measurements)\n",
    "\n",
    "@given(lists(integers()))\n",
    "def test_sum_of_all_counts_is_number_of_measurements(measurements):\n",
    "    \"\"\"集計に出現した回数の合計は、受信した測定値の数と等しくなる\n",
    "    \"\"\"\n",
    "    aggregator = Aggregator()\n",
    "    for m in measurements:\n",
    "        aggregator.receive(m)\n",
    "    tally = aggregator.tally()\n",
    "    assert sum(tally.values()) == len(measurements)"
   ]
  },
  {
   "cell_type": "code",
   "execution_count": null,
   "id": "8acd6e7f-2d83-4a94-b012-5f07a2ad22e9",
   "metadata": {},
   "outputs": [],
   "source": [
    "%%ipytest\n",
    "\n",
    "from hypothesis import assume, given\n",
    "from hypothesis.strategies import composite, integers, lists, permutations\n",
    "\n",
    "@composite\n",
    "def list_and_permutation(draw, elements):\n",
    "    xs = draw(lists(elements))\n",
    "    permutation = draw(permutations(xs))\n",
    "    assume(xs != permutation)\n",
    "    return (xs, permutation)\n",
    "\n",
    "@given(list_and_permutation(integers()))\n",
    "def test_tally_does_not_depend_on_order_of_measurements(measurements_and_permutation):\n",
    "    \"\"\"測定の順序によって集計結果が変わることはない\n",
    "    \"\"\"\n",
    "    (measurements, permutation) = measurements_and_permutation\n",
    "\n",
    "    aggregator1 = Aggregator()\n",
    "    for m in measurements:\n",
    "        aggregator1.receive(m)\n",
    "    tally1 = aggregator1.tally()\n",
    "\n",
    "    aggregator2 = Aggregator()\n",
    "    for m in measurements:\n",
    "        aggregator2.receive(m)\n",
    "    tally2 = aggregator2.tally()\n",
    "\n",
    "    assert tally1 == tally2"
   ]
  },
  {
   "cell_type": "code",
   "execution_count": null,
   "id": "6f28c790-3ebb-4652-8aee-59fac8a48319",
   "metadata": {},
   "outputs": [],
   "source": [
    "# 生成される値は example メソッドで確認できる\n",
    "list_and_permutation(integers()).example()"
   ]
  },
  {
   "cell_type": "markdown",
   "id": "1ac87e34-bee4-44c4-b35c-fcdf40773bca",
   "metadata": {},
   "source": [
    "`Aggregator` の実装を不具合のあるものに置き換えてテストを実行すると失敗の様子を観察できる。"
   ]
  },
  {
   "cell_type": "markdown",
   "id": "14edf950-2cc1-4751-ac62-6d0c3c4afce4",
   "metadata": {},
   "source": [
    "# [Back to the Checkout](http://codekata.com/kata/kata09-back-to-the-checkout/) より\n",
    "\n",
    "実践プロパティベーステストで例題として挙げられている[Back to the Checkout](http://codekata.com/kata/kata09-back-to-the-checkout/)について事例ベーステストとプロパティベーステストを書いてみる。\n",
    "\n",
    "> この例題で参考としてる CodeKata の問題では、次のような表がサンプルとして与えられています。\n",
    ">\n",
    "> |Item|Unit Price|Special Price|\n",
    "> |----|----------|-------------|\n",
    "> | A  |       50 | 3 for 130   |\n",
    "> | B  |        0 | 2 for  45   |\n",
    "> | C  |       20 |             |\n",
    "> | D  |       15 |             |\n",
    ">\n",
    "> 合計を出す関数は、商品が流れてくる順番によらず動作すべきです。したがって `[\"B\",\"A\",\"B\"]` という順番で商品が流れてきたら、「2 つ買うと価格 45」の商品 B については特価の 45 が適用されることになるでしょう。このシステムでエクスポートすべき関数は、 `checkout:total(ListOfItemsBought, UnitPrices, SpecialPrices) → Price` だけです。\n",
    ">\n",
    "> <cite>[実践プロパティベーステスト &mdash; PropErとErlang/Elixrではじめよう](https://www.lambdanote.com/collections/proper-erlang-elixir), p.138</cite>"
   ]
  },
  {
   "cell_type": "markdown",
   "id": "2d7e964a-20d0-4297-b577-c5c471850027",
   "metadata": {},
   "source": [
    "## 実装"
   ]
  },
  {
   "cell_type": "code",
   "execution_count": null,
   "id": "23910088-d8a8-4386-ab55-c8c719f20fb9",
   "metadata": {
    "jupyter": {
     "source_hidden": true
    }
   },
   "outputs": [],
   "source": [
    "from collections import Counter\n",
    "\n",
    "def checkout_total(\n",
    "    list_of_items_bought: str, \n",
    "    unit_prices: dict[str, int], # item -> unit price\n",
    "    special_prices: dict[str, (int, int)], # item -> (bundle size, bundle price)\n",
    "):\n",
    "    total = 0\n",
    "    for item, number_of_items in Counter(list_of_items_bought).items():\n",
    "        if item in special_prices:\n",
    "            (bundle_size, bundle_price) = special_prices[item]\n",
    "            total += (number_of_items // bundle_size) * bundle_price\n",
    "            total += (number_of_items % bundle_size) * unit_prices[item]\n",
    "        else:\n",
    "            total += number_of_items * unit_prices[item]\n",
    "    return total"
   ]
  },
  {
   "cell_type": "markdown",
   "id": "959ec580-c60b-4cfe-90b5-fde32c78fc83",
   "metadata": {},
   "source": [
    "## 事例ベーステスト"
   ]
  },
  {
   "cell_type": "code",
   "execution_count": null,
   "id": "c2904ca1-7842-4add-a916-3d5bc25d4ca8",
   "metadata": {},
   "outputs": [],
   "source": [
    "%%ipytest\n",
    "\n",
    "def test_checkout_total():\n",
    "    unit_prices = {\n",
    "        'A': 50,\n",
    "        'B': 30,\n",
    "        'C': 20,\n",
    "        'D': 15,\n",
    "    }\n",
    "    special_prices = {\n",
    "        'A': (3, 130),\n",
    "        'B': (2, 45),\n",
    "    }\n",
    "\n",
    "    assert    0 == checkout_total(''      , unit_prices, special_prices)\n",
    "    assert   50 == checkout_total('A'     , unit_prices, special_prices)\n",
    "    assert   80 == checkout_total('AB'    , unit_prices, special_prices)\n",
    "    assert  115 == checkout_total('CDBA'  , unit_prices, special_prices)\n",
    "\n",
    "    assert  100 == checkout_total('AA'    , unit_prices, special_prices)\n",
    "    assert  130 == checkout_total('AAA'   , unit_prices, special_prices)\n",
    "    assert  180 == checkout_total('AAAA'  , unit_prices, special_prices)\n",
    "    assert  230 == checkout_total('AAAAA' , unit_prices, special_prices)\n",
    "    assert  260 == checkout_total('AAAAAA', unit_prices, special_prices)\n",
    "\n",
    "    assert  160 == checkout_total('AAAB'  , unit_prices, special_prices)\n",
    "    assert  175 == checkout_total('AAABB' , unit_prices, special_prices)\n",
    "    assert  190 == checkout_total('DABABA', unit_prices, special_prices)"
   ]
  },
  {
   "cell_type": "markdown",
   "id": "10ff1595-99cb-46ad-b706-f46631244443",
   "metadata": {},
   "source": [
    "## プロパティベーステスト"
   ]
  },
  {
   "cell_type": "code",
   "execution_count": null,
   "id": "db1aaf9e-eeff-40fa-961b-90a7e50394ce",
   "metadata": {
    "jupyter": {
     "source_hidden": true
    }
   },
   "outputs": [],
   "source": [
    "from hypothesis.strategies import characters, integers, lists, nothing, sampled_from, text\n",
    "\n",
    "@composite\n",
    "def checkout_total_patterns(draw):\n",
    "    P = 1000\n",
    "    N = 10\n",
    "    \n",
    "    # 単価表を生成する\n",
    "    items = draw(lists(characters(min_codepoint=ord('A'), max_codepoint=ord('Z')), unique=True))\n",
    "    prices = draw(lists(integers(min_value=1, max_value=P), min_size=len(items), max_size=len(items)))\n",
    "    unit_prices = dict([ (item, price) for (item, price) in zip(items, prices) ])\n",
    "\n",
    "    total = 0\n",
    "    list_of_items_bought = ''\n",
    "\n",
    "    # 特価表と特価商品の購入数および購入額を生成する\n",
    "    special_prices = {}\n",
    "    for item in draw(lists(sampled_from(items) if items else nothing(), unique=True)):\n",
    "        bundle_size = draw(integers(min_value=2, max_value=N))\n",
    "        bundle_price = draw(integers(min_value=1, max_value=bundle_size*unit_prices[item]))\n",
    "        special_prices[item] = (bundle_size, bundle_price)\n",
    "        # 特価が適用される分の購入数と購入額を生成する\n",
    "        number_of_bundles = draw(integers(min_value=0, max_value=N))\n",
    "        total += number_of_bundles * bundle_price\n",
    "        list_of_items_bought += (number_of_bundles * bundle_size) * item\n",
    "        # 特価が適用されない分の購入数と購入額を生成する\n",
    "        number_of_rest_items = draw(integers(min_value=0, max_value=bundle_size-1))\n",
    "        total += number_of_rest_items * unit_prices[item]\n",
    "        list_of_items_bought += number_of_rest_items * item\n",
    "\n",
    "    # 特価の設定されていない商品の購入数および購入額を生成する\n",
    "    for item in items:\n",
    "        if item not in special_prices:\n",
    "            number_of_items = draw(integers(min_value=0, max_value=N))\n",
    "            total += number_of_items * unit_prices[item]\n",
    "            list_of_items_bought += number_of_items * item\n",
    "\n",
    "    list_of_items_bought = ''.join(draw(permutations([*list_of_items_bought])))\n",
    "\n",
    "    return total, list_of_items_bought, unit_prices, special_prices"
   ]
  },
  {
   "cell_type": "code",
   "execution_count": null,
   "id": "922ecb09-5f0d-4d82-a7c0-ae3aa80d3ba7",
   "metadata": {},
   "outputs": [],
   "source": [
    "# 生成される値は example メソッドで確認できる\n",
    "checkout_total_patterns().example()"
   ]
  },
  {
   "cell_type": "code",
   "execution_count": null,
   "id": "36a44736-3407-45ea-a346-8db39cf67ed1",
   "metadata": {},
   "outputs": [],
   "source": [
    "%%ipytest\n",
    "\n",
    "from hypothesis import settings, Verbosity\n",
    "\n",
    "@given(checkout_total_patterns())\n",
    "# @settings(verbosity=Verbosity.debug)\n",
    "def test_checkout_total(pattern):\n",
    "    expected_total, list_of_items_bought, unit_prices, special_prices = pattern\n",
    "    assert expected_total == checkout_total(list_of_items_bought, unit_prices, special_prices)    "
   ]
  },
  {
   "cell_type": "markdown",
   "id": "4b93a6cc-0063-4906-a93f-cd2dc348d9fe",
   "metadata": {},
   "source": [
    "`checkout_total` の実装を不具合のあるものに置き換えてテストを実行したり、その際に `verbosity` を変えたりしてみると、テスト失敗時の様子が分かる。\n",
    "\n",
    "(例)\n",
    "\n",
    "- 特別価格を無視する\n",
    "- `//` を `/` に置き換える"
   ]
  },
  {
   "cell_type": "markdown",
   "id": "50c5415e-ae1e-4124-a941-65e275d4cf54",
   "metadata": {},
   "source": [
    "## 標的型プロパティ"
   ]
  },
  {
   "cell_type": "markdown",
   "id": "5f5f6621-1bd0-4aac-a9b8-ec2db2530d86",
   "metadata": {},
   "source": [
    "> Targeted property-based testing combines the advantages of both search-based and property-based testing. Instead of being completely random, T-PBT uses a search-based component to guide the input generation towards values that have a higher probability of falsifying a property. This explores the input space more effectively and requires fewer tests to find a bug or achieve a high confidence in the system being tested than random PBT. ([Löscher and Sagonas](http://proper.softlab.ntua.gr/Publications.html))\n",
    ">\n",
    "> <cite>[Targeted example generation](https://hypothesis.readthedocs.io/en/latest/details.html#targeted-example-generation)</cite>\n",
    "\n",
    "> Example metrics:\n",
    "> \n",
    "> - Number of elements in a collection, or tasks in a queue\n",
    "> - Mean or maximum runtime of a task (or both, if you use label)\n",
    "> - Compression ratio for data (perhaps per-algorithm or per-level)\n",
    "> - Number of steps taken by a state machine\n",
    ">\n",
    "> [hypothesis.target(observation, *, label='')](https://hypothesis.readthedocs.io/en/latest/details.html#hypothesis.target)"
   ]
  },
  {
   "cell_type": "code",
   "execution_count": null,
   "id": "575a2a4c-b312-488d-aaf0-2e6c572bec2b",
   "metadata": {},
   "outputs": [],
   "source": [
    "%%ipytest\n",
    "\n",
    "from hypothesis import given, strategies as st, target\n",
    "\n",
    "@given(st.floats(0, 1e100), st.floats(0, 1e100), st.floats(0, 1e100))\n",
    "def test_associativity_with_target(a, b, c):\n",
    "    ab_c = (a + b) + c\n",
    "    a_bc = a + (b + c)\n",
    "    difference = abs(ab_c - a_bc)\n",
    "    target(difference)  # Without this, the test almost always passes\n",
    "    assert difference < 2.0"
   ]
  },
  {
   "cell_type": "markdown",
   "id": "71dcab0d-9b07-414b-b1a8-d21b052f7e6f",
   "metadata": {},
   "source": [
    "## プロパティの生成\n",
    "\n",
    "> Writing tests with Hypothesis frees you from the tedium of deciding on and writing out specific inputs to test. Now, the `hypothesis.extra.ghostwriter` module can write your test functions for you too!\n",
    "\n",
    "https://hypothesis.readthedocs.io/en/latest/ghostwriter.html"
   ]
  },
  {
   "cell_type": "code",
   "execution_count": null,
   "id": "27118794-4cb2-4d8e-aff3-bbda02b0e629",
   "metadata": {},
   "outputs": [],
   "source": [
    "%pip install black"
   ]
  },
  {
   "cell_type": "code",
   "execution_count": null,
   "id": "e31de358-526d-4b43-8db5-63a204ce51f0",
   "metadata": {},
   "outputs": [],
   "source": [
    "from typing import Sequence\n",
    "from hypothesis.extra import ghostwriter\n",
    "\n",
    "def timsort(seq: Sequence[int]) -> Sequence[int]:\n",
    "    return sorted(seq)\n",
    "\n",
    "print('%%ipytest')\n",
    "print(ghostwriter.idempotent(timsort))"
   ]
  },
  {
   "cell_type": "markdown",
   "id": "434592ba-5683-4b58-9f60-d8986f8bc939",
   "metadata": {},
   "source": [
    "# 参考資料など\n",
    "\n",
    "- [実践プロパティベーステスト &mdash; PropErとErlang/Elixrではじめよう](https://www.lambdanote.com/collections/proper-erlang-elixir)\n",
    "  - 「本格的なアプリケーション開発を通して、プロパティベーステストの基礎から極北までを体験できる、唯一無二の解説書です」\n",
    "- [プロパティベース・テストを習得する](https://blogs.oracle.com/otnjp/post/know-for-sure-with-property-based-testing-ja)\n",
    "  - 「PBTの最初の一歩を踏み出すとき、適切なプロパティを探すのは難しいタスクだと感じるかもしれません。プロパティの代表的な例に比べれば、現実世界でのプロパティの特定には別の種類の考え方が要求されます。プロパティを探す際に参考になる一連の便利なパターンが役立つかもしれません」\n",
    "- [ユニットテストあれこれ ～ Haskeller の視点から ～](https://mew.org/~kazu/material/2018-unit-test.pdf)\n",
    "  - 「突然変異がすべての性質をすり抜けたら性質が不足している」\n",
    "  - 「たくさんの突然変異を作りそれぞれの性質を試す」\n",
    "- [Misreading Chat](https://misreading.chat/)\n",
    "  - [#97: Using Lightweight Formal Methods to Validate a Key-Value Storage Node in Amazon S3](https://misreading.chat/2022/08/22/97-using-lightweight-formal-methods-to-validate-a-key-value-storage-node-in-amazon-s3/)\n",
    "    - 「簡単なモデルを静的に検証しつつ、簡単なモデルと本当の実装の一致はプロパティベースドテスティングで動的にチェックする」\n",
    "- [Proptest Book](https://proptest-rs.github.io/proptest/intro.html)\n",
    "  - [Differences between QuickCheck and Proptest](https://proptest-rs.github.io/proptest/proptest/vs-quickcheck.html)\n",
    "    - \"The one big difference is that QuickCheck generates and shrinks values based on type alone, whereas Proptest uses explicit `Strategy` objects. The QuickCheck approach has a lot of disadvantages in comparison\"\n",
    "- [Scala関数型デザイン＆プログラミング &mdash; Scalazコントリビューターによる関数型徹底ガイド](https://book.impress.co.jp/books/1114101091)\n",
    "  - 第8章 プロパティベースのテスト\n",
    "    - 「本章では、プロパティベースのテストを可能にするためのシンプルながら強力なライブラリに取り組みます」\n",
    "- https://github.com/DRMacIver/minithesis\n",
    "  - \"This is is an incredibly minimal implementation of the core idea of Hypothesis, mostly intended for demonstration purposes to show someone how they might get the basics of it up and running.\""
   ]
  }
 ],
 "metadata": {
  "kernelspec": {
   "display_name": "Python 3 (ipykernel)",
   "language": "python",
   "name": "python3"
  },
  "language_info": {
   "codemirror_mode": {
    "name": "ipython",
    "version": 3
   },
   "file_extension": ".py",
   "mimetype": "text/x-python",
   "name": "python",
   "nbconvert_exporter": "python",
   "pygments_lexer": "ipython3",
   "version": "3.11.6"
  }
 },
 "nbformat": 4,
 "nbformat_minor": 5
}
